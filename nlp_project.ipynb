{
 "cells": [
  {
   "cell_type": "code",
   "execution_count": 92,
   "metadata": {},
   "outputs": [],
   "source": [
    "from __future__ import division\n",
    "from sklearn.cluster import KMeans\n",
    "from numbers import Number\n",
    "from pandas import DataFrame\n",
    "import sys, codecs, numpy"
   ]
  },
  {
   "cell_type": "code",
   "execution_count": 93,
   "metadata": {},
   "outputs": [],
   "source": [
    "class autovivify_list(dict):\n",
    "  def __missing__(self, key):\n",
    "    '''Given a missing key, set initial value to an empty list'''\n",
    "    value = self[key] = []\n",
    "    return value\n",
    "\n",
    "  def __add__(self, x):\n",
    "    '''Override addition for numeric types when self is empty'''\n",
    "    if not self and isinstance(x, Number):\n",
    "      return x\n",
    "    raise ValueError\n",
    "\n",
    "  def __sub__(self, x):\n",
    "    '''Also provide subtraction method'''\n",
    "    if not self and isinstance(x, Number):\n",
    "      return -1 * x\n",
    "    raise ValueError"
   ]
  },
  {
   "cell_type": "code",
   "execution_count": 94,
   "metadata": {},
   "outputs": [],
   "source": [
    "def build_word_vector_matrix(vector_file, n_words):\n",
    "  '''Return the vectors and labels for the first n_words in vector file'''\n",
    "  numpy_arrays = []\n",
    "  labels_array = []\n",
    "  with codecs.open(vector_file, 'r', 'utf-8') as f:\n",
    "    for c, r in enumerate(f):\n",
    "      sr = r.split()\n",
    "      labels_array.append(sr[0])\n",
    "      numpy_arrays.append( numpy.array([float(i) for i in sr[1:]]) )\n",
    "\n",
    "      if c == n_words:\n",
    "        return numpy.array( numpy_arrays ), labels_array\n",
    "\n",
    "  return numpy.array( numpy_arrays ), labels_array"
   ]
  },
  {
   "cell_type": "code",
   "execution_count": 95,
   "metadata": {},
   "outputs": [],
   "source": [
    "def find_word_clusters(labels_array, cluster_labels):\n",
    "  '''Return the set of words in each cluster'''\n",
    "  cluster_to_words = autovivify_list()\n",
    "  for c, i in enumerate(cluster_labels):\n",
    "    cluster_to_words[ i ].append( labels_array[c] )\n",
    "  return cluster_to_words"
   ]
  },
  {
   "cell_type": "code",
   "execution_count": 96,
   "metadata": {},
   "outputs": [
    {
     "data": {
      "text/plain": [
       "KMeans(algorithm='auto', copy_x=True, init='k-means++', max_iter=300,\n",
       "    n_clusters=121, n_init=10, n_jobs=1, precompute_distances='auto',\n",
       "    random_state=None, tol=0.0001, verbose=0)"
      ]
     },
     "execution_count": 96,
     "metadata": {},
     "output_type": "execute_result"
    }
   ],
   "source": [
    "input_vector_file = 'vectors.txt' \n",
    "n_words = int(1210) # Number of words to analyze \n",
    "reduction_factor = float(0.1) # Amount of dimension reduction {0,1}\n",
    "n_clusters = int( n_words * reduction_factor ) # Number of clusters to make\n",
    "df, labels_array = build_word_vector_matrix(input_vector_file, n_words)\n",
    "kmeans_model = KMeans(init='k-means++', n_clusters=n_clusters, n_init=10)\n",
    "kmeans_model.fit(df)\n"
   ]
  },
  {
   "cell_type": "code",
   "execution_count": 97,
   "metadata": {},
   "outputs": [],
   "source": [
    "cluster_labels  = kmeans_model.labels_\n",
    "cluster_inertia   = kmeans_model.inertia_\n",
    "cluster_to_words  = find_word_clusters(labels_array, cluster_labels)\n",
    "#print(cluster_to_words)\n",
    "clusters = []\n",
    "for c in cluster_to_words:\n",
    "    #print(c)\n",
    "    #print(cluster_to_words[c])\n",
    "    clusters.append(cluster_to_words[c])\n",
    "#print(clusters)"
   ]
  },
  {
   "cell_type": "code",
   "execution_count": 98,
   "metadata": {},
   "outputs": [
    {
     "name": "stdout",
     "output_type": "stream",
     "text": [
      "0      ['the', 'of', 'is', 'to', 'and', '05', 'in', 'that', 'it', 'by', 'are', 'for', 'or', 'used', 'an', 'term', 'on', 'has', 'with', 'we', 'problem']\n",
      "8      ['be', 'can']\n",
      "9      ['as', 'documents', 'objects', 'such', 'vectors', 'represented', 'well']\n",
      "14      ['this', 'example', 'using', 'then', 'same', 'would', 'calculated']\n",
      "16      ['probability', 'theory', 'prior']\n",
      "17      ['programming', 'object', 'dynamic', 'at', 'computer', 'oriented', 'science']\n",
      "19      ['which', 'way', 'form']\n",
      "21      ['vector', 'space', 'model']\n",
      "22      ['pagerank', 'page', 'links', 'other', 'pages', 'web']\n",
      "25      ['from', 'how', 'important', 'results', 'uses', 'high', 'linked', 'name', 'rank', 'sites']\n",
      "26      ['classes', 'derived', 'base', 'referred']\n",
      "27      ['h0k', 'he', 'ubx', 'hhk', 'hij', 'hijses']\n",
      "28      ['all', 'inherit', 'common']\n",
      "30      ['theorem', 'bayes']\n",
      "32      ['have', 'been', 'already']\n",
      "33      ['document', 'each', 'between', 'where', 'query', 'original']\n",
      "34      ['one', 'class']\n",
      "35      ['06', '000253817', '000438051', '000464908', '000479967', '000717298', '00152028', '41461e', '69545e', '07', 'conversely']\n",
      "36      ['inheritance', 'program', 'therefore']\n",
      "37      ['problems', 'sub', 'into']\n",
      "38      ['optimal', 'subproblems', 'solutions', 'substructure', 'overlapping']\n",
      "39      ['information', 'retrieval', 'indexing', 'rankings', 'relevancy', 'filtering', 'smart']\n",
      "40      ['probabilities', 'two']\n",
      "41      ['google', 'algorithm', 'link', 'analysis']\n",
      "42      ['also', 'known']\n",
      "43      ['number', 'value', 'its', 'importance']\n",
      "44      ['terms', 'words', 'if']\n",
      "45      ['called', 'because', 'generalization', 'sometimes']\n",
      "46      ['given', 'compute', 'often', 'posterior']\n",
      "48      ['not', 'will', 'there', 'so', 'they', 'certain', 'say', 'does']\n",
      "49      ['these', 'both', 'attributes', 'solved', 'variables', 'divided', 'beliefs', 'subclasses', 'themselves', 'poorly', 'behavior', 'chosen', 'behaviours', 'instances']\n",
      "51      ['conditional', 'marginal', 'relates']\n",
      "52      ['more', 'ancestor', 'exposed', 'those', 'adding']\n",
      "53      ['new', 'methods']\n",
      "54      ['may', 'solution', 'up', 'find', 'when', 'solve', 'could', 'need', 'you', 'overall', 'needs', 'larger']\n",
      "55      ['any', 'first', 'however', 'most', 'use', 'calculate', 'usually', 'distribution', 'system', 'useful', 'considered']\n",
      "56      ['events', 'random']\n",
      "57      ['about', 'values', 'specific', 'dimension', 'weights', 'developed', 'separate', 'corresponds']\n",
      "58      ['many', 'their', 'approach', 'according', 'others', 'determine', 'frequencies', 'subproblem', 'do', 'extend', 'needed', 'intended', 'create', 'due', 'subsets', 'try', 'access', 'add', 'manipulation']\n",
      "59      ['means', 'plan', 'action', 'finding', 'sense', 'acceptable']\n",
      "60      ['method', 'solving']\n",
      "61      ['search', 'another', 'best', 'superclass', '000820195', 'only', 'subclass', 'child', 'internet', 'little', 'actual', 'engine', 'having', 'users', '1940s', 'decisions', 'engines', 'parent', 'toolbar', 'updated', 'comparing', 'occurrence']\n",
      "62      ['was', 'keyword', 'concept', 'categorization', 'support', 'provides', 'representation', 'basic', 'formula', 'thus', 'powerful', 'valid', 'constant', 'originally', 'appears', 'computation', 'invented', 'technique']\n",
      "63      ['8i', '8w', '8q', 'time', 'o8', '8h', '8j', 'b8', '98', 'h8', '8d', '8f', '8l', '8p', 'd8', 't8', '8n', '8u', '8g', 'f8', 'x8', 'y8', 'q8', 'w8', 'z8', '7w', 'k8', '48', '7o', '7p', 'general', '79', '84', '38', '7d', '7v', '8s', '97', 'defined', 'j8', '28', '78', '7q', '8r', 'b9', '7f', '7y', '9s', 'computed', 'v7', '18', '7c', '7h', '7k', 'data', 'g9', '7b', '7u', 'allows', 'every', 'i7', 'main', 'relationship', 'what', '19', '7e', '7s', '7t', '7x', '83', '_8', 'j7', '77', '7m', '82', 'c7', 'generally', 'graph', 'ja', 'n9', 'see', 'zs', '6a', '6b', '6v', '72', '7_', '7l', 'b7', 'equal', 'factor', 'following', 'jj', 'k7', 'made', 'out', 'second', 'vote', '6e', '73', '76', '8_', '96', 'ae', 'assumptions', 'dx', 'fs', 'idea', 'lg', 'md', 'memoization', 'rd', 'seen', 'zn', '37', '4e', '5x', '67', '6i', '70', '93', 'ac', 'accurate', 'acts', 'bd', 'cx', 'd7', 'df', 'fi', 'formed', 'fu', 'g6', 'ii', 'il', 'iv', 'j6', 'jm', 'lt']\n",
      "64      ['different', 'non', 'order', 'ways', 'vocabulary', 'zero', 'several', 'occurs', 'appear', 'lost', 'occurring']\n",
      "65      ['8x', '9j', '8y', '9e', '9p', '9w', '9l', '9m', 'g8', '9h', 'h9', '9k', '80', 'o9', '000226815', '000818812', '00147324', '9q', '9u', 'j9', 'since', 'x9', '9c', 'trousers', '9d', 'x7', '92', '95', 'apples', 'central', '29', '49', 'dp', 'y9', '39', '7j', 'entities', 'plays', '75', 'i9', 'positive', 'simple', 'bayesians', 'rq', 'schedule', 'ff', 'finalized', 'polymorphism', 'processing', 'qx', 'view', 'ba', 'equation', 'matches', 'mechanism', 'numeric', 'our', 'rh', 'ru', 'wear', 'whole', 'yn', '1g', '60', 'co', 'debates', 'dual', 'engineering', 'entity', 'fd', 'frequentists', 'get', 'gi', 'long', 'nq', 'patented']\n",
      "66      ['code', 'set', 'interpretations', 'world', 'wide', 'relative', 'around', 'debate', 'definition', 'complexity', 'frequency', 'hyperlinked', 'measuring', 'reducing', 'foundations', 'inbound', 'purpose', 'total', 'distinct', 'angles']\n",
      "67      ['student', 'event', 'tf', 'represent', 'diagnosis', 'idf', 'case', 'correct', 'proposed', 'relationships', 'schemes', 'popularity', 'wearing', 'design', 'formal', 'happened']\n",
      "68      ['8e', '8v', '8z', '8b', 'l8', 'c8', 'p8', '8m', 's8', '9t', 'i8', 'r8', '8k', '8o', '8t', 'a8', '88', '8a', '9g', 'm8', '89', 'n8', 'u8', '9i', '9y', '87', 'v8', '9b', 'c9', 'u9', 'q9', 'r7', 'v9', 'w7', '7a', '7r', '9o', 'p9', '58', '68', '7z', '81', '8c', 'a9', 'describe', '85', '9r', 'e8', 'e9', 'f7', 'l9', 'y7', '7g', '7i', '86', '9a', 'characteristics', 'd9', 'f9', 'ir', 'l7', '09', '6m', '9_', 'k9', 'm7', 'm9', 'q7', 'r9', '08', '10', '69', '90', 'a1', 'a7', 'available', 'g7', 'h7', 'key', 'pr', 's9', 'u7', 'unique', 'z7', 'z9', '59', '7n', '91', 'e7', 'hence', 'include', 'n7', 'om', 'queries', 'relevance', 'relevant', 'systems', 'uh', 'w9', 'whilst', 'xp', 'yo', 'basically', 'bw', 'calculating', 'field', 'hg', 'ht', 'kw', 'ny', 'popular', 'postgraduate', 'qw', 'ra', 'research', 'rj', 'ro', 'solves', 'ss', 'transport', 'very', 'who', 'yz', 'z6', '17', '6l', '6r', '74', '_9', 'animals', 'bm', 'ch', 'content', 'counts', 'd6', 'da', 'dc', 'eh', 'es', 'evidence', 'features', 'fj', 'fk', 'four', 'functions', 'further', 'fv', 'gb', 'gr', 'greater', 'h1', 'h6', 'happening', 'hc', 'inherited', 'io', 'just', 'jz', 'kf', 'km', 'ku', 'kx', 'language', 'make', 'measure', 'modification', 'mt', 'nodes', 'normally', 'og', 'pp']\n",
      "69      ['being', 'fruit', 'instance', 'hierarchy', 'kind', 'models', 'element', 'identifiers', 'exhibition', 'index', 'produced', 'topic', 'girl', 'possible', 'abstraction', 'container', 'expressed', 'fleshy', 'populations', 'chance']\n",
      "70      ['no', 'particular', 'connection']\n",
      "71      ['word', 'optimization', 'mathematical', 'false', 'instead', 'result', 'languages', 'describes', 'applications', 'negative', 'might', 'synonym', 'mathematics', 'recursive']\n",
      "72      ['9x', '9n', '9f', '9v', 'similar', '99', '9z', '2099e', 'apple', 'share', 't9', 'numerical', 'orange', 'etc', 'step', 'three', 'lot', 'de', 'interfaces', 'modules', 'sufficiently', 'below', 'context', 'described', 'pieces']\n",
      "73      ['properties', 'process', 'structure', '00141866', '00142988', 'collection', 'advantage', 'exhibit', 'degrees', 'types', 'seed', 'uncertainty']\n",
      "74      ['but', 'some', 'assigned', 'assigns', 'observed', 'should', 'assign', 'applied', 'observations', 'patient', 're', 'symptoms', 'won', 'associated', 'even', 'relation', 'save', 'stored', 'cannot', 'consider', 'found', 'group', 'again', 'cases']\n",
      "75      ['computing', 'existing', 'similarity', 'naive', 'reuse', 'take', 'hijubx', 'account', 'cognitive', 'f4', 'help', 'product', 'train', 'f5', 'large', 'naturally', 'poor', 'pre', 'references', 'small', 'smaller']\n",
      "76      ['bayesian', 'based', 'depends', 'like', 'within', 'ranking', 'application', 'cosine', 'dimensionality', 'similarities', 'upon', 'scale', 'students', 'webpage', 'angle', 'specified', 'articles', 'givenis']\n",
      "77      ['keywords', 'single', 'longer', 'phrases', 'over']\n",
      "78      ['000222005', '000149611', '000208043', '000254484', '00028446', '000342545', '000388528', '000486314', '000782035', '000784815', '000908618', '000918943', '000972417', '00120731', '00130591', '00134052', '00135353', '00148554', '00154554', '0015764', '00159165', '0122e', '1804e', '28277e', '63164e', '74935e', '77299e', '7908e', '79304e', '000295394']\n",
      "79      ['000714138', '000679629', '00102065', '00130641', '00133258', '00139828', '00166282']\n",
      "80      ['000837489', '000592722', '00076664', '00078398', '00154063', '00165102']\n",
      "81      ['00105573', '000218071', '000346468', '000722866', '00118384', '00122644', '98124e']\n",
      "82      ['00127245', '00027091', '000641772', '000750848', '00127034']\n",
      "83      ['than', 'less', 'match', 'f2', 'frequentist', 'bottom', 'much', 'takes', 'down', 'f3', 'role', 'statistics', 'university', 'top', 'disagree', 'must', 'economy', 'involves', 'precisely', 'reciprocal', 'car', 'discuss', 'f1', 'mango']\n",
      "84      ['weighting', 'path', 'site', 'bellman', 'patent', 'higher', 'your', 'algorithms', 'factors', 'meaning', 'until', 'clicking', 'comes', 'goal', 'person', 'prob', 'shortest', 'stanford', 'visits', 'circle', 'denotes', 'had', 'randomly', 'among', 'outbound', 'website', 'affect', 'influence', 'modern']\n",
      "85      ['000104496', '00134634', '0015882']\n",
      "86      ['000112297', '000521099', '000851915', '00113677', '00120606', '00129875']\n",
      "87      ['000118776', '0002997', '000379887', '000767073', '00144738']\n",
      "88      ['000121415', '000251048', '000289281', '000419433', '000741238', '00121285', '00127489']\n",
      "89      ['000121931', '000154344', '000257429', '000597976', '000624961', '000769519', '000873691', '000948308', '00132224', '0014425', '00149124', '0015844']\n",
      "90      ['000128402', '000555889', '000658771', '000935097', '000997195', '00146592', '00159539']\n",
      "91      ['000146166', '000228113', '000373652', '000392118', '000822361', '000914112', '00160403']\n",
      "92      ['000154858', '000658096', '000740185', '00122127', '00143611', '00158507']\n",
      "93      ['000173975', '000434826', '000828879', '000894328', '000997342', '00134573', '00138859', '00147126', '00149773']\n",
      "94      ['000176249', '000344981', '000664931', '00067521', '00104599', '0011547']\n",
      "95      ['000204662', '000510361', '000970411', '00112897', '00132652', '00162791']\n",
      "96      ['000209893', '00038978', '000468307', '000606068', '000927189', '00110873', '00123337', '00137624', '00147916', '00159927']\n",
      "97      ['000213784', '000228605', '00044146', '000507011', '00132182']\n",
      "98      ['000218611', '000404928', '000407494', '000627347', '000654478', '000681381', '00106799', '00111769', '00142694', '00156054']\n",
      "99      ['000230336', '000309389', '0010244', '00116003', '00125393']\n",
      "100      ['000233216', '000237438', '000247751', '000302909', '000510669', '000672392', '00121509']\n",
      "101      ['000233989', '000454297', '000568793', '000615239', '000965391', '00123691']\n",
      "102      ['00024084', '000253858', '000306806', '000923061', '00150916']\n",
      "103      ['000253155', '000437583', '000558035', '00060477', '00101139', '00106998', '00112648', '001343', '00143099']\n",
      "104      ['000281587', '000392922', '000689932', '000692842', '000723977', '000797545', '000863904', '00109647', '00116315', '00124763', '00126601', '00133235', '00153604', '00153979']\n",
      "105      ['00028579', '000606723', '000641574', '000679533', '00127091', '00145284']\n",
      "106      ['000288034', '000727566', '00095051', '00145348']\n",
      "107      ['000288376', '000349485', '00070198', '000721091', '00105603', '00122734', '0015892', '00159964']\n",
      "108      ['00029439', '000388454', '000599943', '00110349']\n",
      "109      ['000339263', '00062685', '000798503', '000967188', '00104602', '00148124']\n",
      "110      ['000354644', '000393385', '000533912', '000661417', '000699741', '00160269']\n",
      "111      ['000385199', '000515494', '000920251', '000978992', '00100001', '00112502', '00116851', '00122709', '00160493']\n",
      "112      ['000429939', '00075486', '000993489', '00104788', '00124217', '00150931']\n",
      "113      ['000466403', '00118882', '00127242', '00148223']\n",
      "114      ['00046674', '000766635', '00109457', '00118601', '00162762']\n",
      "115      ['000481291', '00053947', '000884418', '000955627', '00103384', '00107373', '00121033', '00125502', '00146811', '00153857', '0669e']\n",
      "116      ['000509222', '000566388', '00117286', '00143176', '0016061', '0016119', '00162254']\n",
      "117      ['000543594', '000788925', '000861262', '000943677', '0009751', '00158112', '00159783', '00163446']\n",
      "118      ['after', 'thomas', 'law', 'rev']\n",
      "119      ['either', 'them', 'typically', 'accomplished', 'control', 'dividing', 'overriding', 'learning', 'richard', 'shared', 'controlled', 'human', 'replacing', '1953']\n",
      "120      ['representing', 'text', 'algebraic']\n"
     ]
    }
   ],
   "source": [
    "clust_dict = {}\n",
    "#print(clusters)\n",
    "for clus in clusters:\n",
    "    if len(clus) == 1:\n",
    "        if 0 not in clust_dict:\n",
    "            clust_dict[0] = clus\n",
    "        else:\n",
    "            clust_dict[0] += clus\n",
    "    else:\n",
    "        clust_dict[clusters.index(clus)] = clus\n",
    "for key, value in clust_dict.items():\n",
    "    print(key, '    ', value)"
   ]
  },
  {
   "cell_type": "code",
   "execution_count": 99,
   "metadata": {},
   "outputs": [],
   "source": [
    "import os, sys, nltk, re\n",
    "\n",
    "# Open a file\n",
    "path = \"DATA-NLP\"\n",
    "dirs = os.listdir( path )\n",
    "\n"
   ]
  },
  {
   "cell_type": "code",
   "execution_count": 100,
   "metadata": {},
   "outputs": [],
   "source": [
    "question_mapping = dict() # Mapping to question dictionary\n",
    " # Mapping to student as key and answer as value\n",
    "\n",
    "for file in dirs:\n",
    "    if file == '.DS_Store':\n",
    "            continue\n",
    "    path_to_file=path+'/'\n",
    "    file_name = file\n",
    "    split_name = file.split('_')\n",
    "    student_name = split_name[0]\n",
    "    question_number = split_name[1].split('.')[0]\n",
    "    if question_number not in question_mapping:\n",
    "        question_mapping[question_number] = {}\n",
    "    path_to_file += file_name\n",
    "    with open(path_to_file, 'r', encoding = 'latin1') as f:\n",
    "        mylist = f.read()\n",
    "        sent_tokenize_list = nltk.sent_tokenize(mylist)\n",
    "        temp = []\n",
    "        for i in sent_tokenize_list:\n",
    "            sent = i.lower()\n",
    "            sent = re.sub('[^A-Za-z0-9]+', ' ', sent)\n",
    "            temp.append(sent)\n",
    "        question_mapping[question_number][student_name] = temp\n",
    "        "
   ]
  },
  {
   "cell_type": "code",
   "execution_count": 101,
   "metadata": {},
   "outputs": [
    {
     "name": "stdout",
     "output_type": "stream",
     "text": [
      "taska      {'g0pA': [[36, 0, 62, 62, 0, 17, 17, 17, 33, 0, 62, 63, 0, 0, 58, 53, 26, 0, 58, 0, 75, 26], [14, 0, 0, 0, 53, 26, 0, 75, 0, 53, 0, 49, 0, 0, 75, 26, 0, 53, 53, 0, 26, 0, 0, 0, 53, 34], [36, 69, 0, 0, 69, 0, 63, 33, 65, 0, 9, 0, 14, 0, 0, 49, 0, 67], [14, 69, 0, 63, 8, 8, 9, 73, 33, 67, 14, 8, 0, 52, 63, 0, 49, 68, 0, 14, 8, 52, 0, 0, 67, 0, 0, 61, 68], [0, 14, 63, 67, 14, 8, 42, 9, 0, 61, 0, 61, 34, 68, 14, 8, 42, 9, 0, 61, 0, 61, 34, 45, 0, 68, 34, 0, 67, 34], [36, 8, 0, 64, 33, 44, 14, 54, 73], [0, 14, 0, 54, 68, 58, 0, 68, 0, 52, 40, 26, 0, 0, 45, 67, 0, 67, 9, 49, 49, 73, 0, 67, 0, 0, 68, 67], [14, 14, 0, 49, 0, 67, 0, 67, 26, 14, 28, 53, 0, 49, 25, 49, 0, 68, 0, 67, 26]], 'g0pB': [[36, 0, 62, 62, 0, 17, 17, 17], [0, 69, 0, 75, 0, 75, 34, 66, 0, 53, 26, 0, 0, 69, 0, 63], [0, 14, 0, 69, 0, 0, 0, 69, 0], [49, 0, 48, 28, 48, 68, 25, 74, 42, 32, 58, 68, 54, 32, 43, 0, 0, 48, 32, 43, 0], [55, 49, 68, 0, 28, 73, 0], [0, 14, 14, 0, 14, 8, 55, 0, 61, 0, 63, 68, 0, 22, 9, 0, 28, 0, 0, 0, 0, 49, 49, 48, 0, 57, 73, 0, 0, 68, 0, 0, 61], [63, 17, 36], [54, 34, 34, 25, 61, 34, 28, 0, 49, 0, 53, 0, 68, 0, 0, 61], [34, 34, 84, 0, 14, 14, 0, 84, 34, 0, 61, 0, 0, 34], [0, 34, 62, 60, 19, 48, 8, 68, 0, 0, 84, 34, 0, 22, 49, 0], [55, 0, 9, 63, 0, 0, 34, 48, 48, 8, 68, 0, 58, 0, 0, 84, 34, 45, 0, 0, 48, 68], [0, 84, 34, 0, 34, 19, 59, 0, 0, 68, 0, 0, 84, 34, 0, 28, 49, 0, 84, 74, 0, 68, 0, 0, 61]], 'g0pC': [[36, 0, 17, 17, 17, 0, 33, 53, 34, 0, 63, 14, 26, 19, 32, 32, 63], [49, 26, 32, 32, 74, 0, 0, 49, 0, 49, 19, 33, 0, 0, 26, 0, 0, 68, 25], [0, 0, 36, 0, 17, 17, 17, 0, 0, 0, 75, 0, 75, 66, 68], [36, 26, 0, 8, 0, 0, 19], [0, 42, 62, 19, 0, 0, 0, 0, 63, 33, 26], [0, 14, 0, 45, 0, 48, 0], [26, 0, 14, 19, 63, 0, 49, 0, 49, 19, 0, 0, 28, 68, 0, 34, 34, 48, 14, 0, 28, 68], [0, 73, 0, 36, 0, 0, 26, 19, 14, 32, 0, 72, 66, 8, 71, 0, 14, 66, 62, 66, 0, 66, 0, 0, 36], [36, 36, 8, 42, 8, 0, 9, 65, 19, 0, 33, 58, 72, 0, 66, 0, 0, 119, 119, 66], [36, 8, 8, 119, 0, 119, 53, 0, 43, 52, 0, 0, 52, 53, 53]], 'g0pD': [[36, 0, 17, 17, 17, 0, 19, 0, 19, 53, 26, 14, 26, 0, 32, 32, 32, 63], [0, 53, 26, 42, 9, 26, 26, 28, 49, 0, 0, 0, 75, 26, 19, 0, 26, 0, 9, 26, 26], [0, 61, 0, 70, 68, 0, 0, 58, 0, 75, 75, 75, 66], [0, 0, 119, 119, 119, 0, 119, 34, 0, 52, 53, 52, 0, 52, 0, 0, 52, 53, 53, 0, 52, 52, 0, 0, 52, 36, 0, 42, 45, 45, 45, 45, 48, 0, 67, 67, 69, 33, 26, 0, 9], [69, 0, 69, 0, 45, 0, 72, 83, 65, 0, 58, 58], [34, 8, 74, 69, 0, 8, 0, 69, 0, 72, 72, 72], [65, 65, 0, 69, 0, 72, 0, 69, 35, 65, 54, 75, 28, 28, 0, 73, 28, 0, 28, 69, 9, 9, 69, 69, 69, 0, 0, 73, 0], [0, 73, 0, 36, 0, 0, 72, 0, 72, 72, 72, 8, 72, 72, 0, 66, 66, 0, 66, 0, 0, 36]], 'g0pE': [[0, 17, 17, 17, 36, 0, 19, 0, 19, 53, 26, 49, 0, 19, 0, 45, 9, 14, 26, 0, 32, 32, 32, 63], [0, 36, 62, 62, 62, 0, 0], [0, 53, 26, 42, 9, 26, 26, 75, 77, 0, 28, 0, 0, 0, 75, 75, 26, 19, 0, 26, 0, 9, 26, 26, 0, 52, 26], [0, 0, 58, 0, 75, 75, 75, 66, 0, 61, 0, 70, 68], [36, 62, 0, 62, 0, 62, 0, 62, 0, 17, 71], [62, 0, 62, 65, 43, 0, 39, 65, 0, 119, 119, 0, 59, 0, 45, 63, 0, 42, 57, 57, 65, 0, 74, 0, 74, 46, 74, 8, 8, 0, 75, 83, 83, 39, 54, 0, 8, 74, 57, 33, 57, 65, 61, 43], [36, 0, 42, 45, 45, 45, 45, 0, 0, 67, 67, 69, 33, 26, 0, 9], [0, 69, 69, 0, 45, 0, 72, 72, 83, 0, 58, 58], [34, 8, 74, 69, 0, 8, 0, 69, 0, 72, 72, 72], [35, 65, 65, 0, 69, 0, 72, 0, 69, 65, 54, 75, 28, 28, 0, 73, 28, 0, 28, 69, 9, 9, 69, 69, 69, 0, 0, 73, 0], [0, 73, 0, 36, 0, 0, 72, 0, 72, 72, 72, 8, 72, 72, 0, 66, 66, 0, 66, 0, 0, 36], [36, 36, 0, 61, 65, 65, 45, 65, 19, 71, 58, 72, 0, 66, 69, 119, 0, 119, 119, 66], [36, 0, 119, 119, 119, 0, 119, 119, 34, 0, 52, 53, 52, 0, 52, 0, 0, 52, 53, 53, 0, 52, 52, 0, 0, 52]], 'g1pA': [[0, 17, 17, 17, 9, 0, 37, 26, 58, 0, 58, 73, 0, 0, 68, 0, 8, 8, 0, 119], [36, 0, 73, 0, 17, 17, 17, 0, 19, 9, 0, 28, 0, 73, 0, 9, 0, 61, 34], [0, 0, 36, 0, 0, 58, 67, 33, 34, 17, 0, 61], [33, 34, 9, 0, 72, 0, 72, 73], [53, 26, 8, 8, 63, 0, 14, 73, 9, 48, 32, 73, 0, 49, 0, 26, 25, 19, 14, 53, 34, 0, 63], [61, 0, 28, 0, 0, 73, 0, 0, 49, 72, 0], [17, 0, 14, 63, 49, 0, 33, 25, 33, 22, 74, 0, 61], [49, 0, 0, 58], [58, 0, 49, 67, 17, 17, 0, 8, 0, 65, 48, 58, 48, 54, 0, 8, 54, 53, 17, 0, 64, 73, 0], [71, 53, 17, 0, 63, 0, 28, 73, 0, 9, 19, 32], [36, 8, 8, 49, 37, 40, 63, 77, 36, 0, 36], [77, 36, 59, 0, 0, 34, 8, 61, 28, 25, 34, 22, 34, 36, 63, 0, 36, 25, 64, 26]], 'g1pB': [[36, 0, 34, 0, 0, 62, 0, 17, 17, 17], [0, 0, 0, 58, 52, 0, 75, 75, 26, 68, 0, 53, 0, 49, 0, 49, 26, 0, 8], [0, 19, 0, 17, 36, 0, 9, 0, 0, 69, 0, 63], [0, 14, 0, 69, 0, 0, 0, 28, 73, 0], [0, 68, 83, 0, 36, 54, 65, 0, 52, 57, 0, 26], [0, 14, 14, 8], [63, 37, 40, 0, 64], [33, 0, 49, 8, 14, 8, 37, 49, 37, 52], [0, 14, 8, 8, 37, 0, 58, 52], [64, 0, 14, 19, 37, 22, 9, 9, 72], [0, 8, 8, 37, 49, 37, 63, 76, 0, 0, 0, 66, 0, 48, 0]], 'g1pD': [[36, 0, 60, 0, 53, 26, 14, 26], [0, 53, 26, 0, 45, 26, 26, 0, 48, 28, 0, 49, 0, 49, 0, 0, 26, 26], [0, 62, 58, 0, 75, 66, 0, 8, 0, 74, 0, 0, 70], [0, 42, 62, 0, 62, 0, 62, 0, 17, 71, 14, 0, 62, 65, 0, 39, 65, 0, 119, 119, 0, 59, 0, 45, 0, 75, 83], [36, 0, 26, 0, 9, 45, 58, 0, 0, 0, 0, 67, 67, 69, 33, 26, 0, 9], [36, 0, 0, 73, 0, 66, 0, 66, 0, 36, 65, 72, 0, 68, 72, 72, 8, 72, 0, 66], [58, 0, 14, 36, 0, 61, 65, 45, 65, 33, 58, 0, 66, 0, 69, 119, 0, 74, 119, 119, 66], [36, 0, 68, 0, 119, 34, 0, 52, 53, 52, 0, 52, 0, 0, 53, 53, 0, 83, 0, 52, 52, 0, 0, 52], [36, 0, 0, 25], [33, 64, 55, 0, 64, 73, 0, 14, 0, 0, 9, 73, 0, 0, 17, 36, 69, 73, 0, 65, 73, 0, 36], [0, 0, 0, 33, 49, 25, 9, 0, 0, 48, 25, 72]], 'g2pA': [[36, 63, 57, 0, 0, 17, 68, 0, 75, 66, 61, 0, 76, 0, 36], [0, 14, 0, 0, 0, 0, 76, 57, 0, 0, 36], [0, 14, 36, 54, 0, 21, 64, 0, 68], [17, 55, 83, 0, 75, 54, 48, 32, 83, 0, 28], [74, 49, 48, 32, 17, 19, 48, 0, 0], [53, 14, 63, 8, 8, 76, 25, 54, 0, 0, 36, 69, 0, 14, 0, 34], [0, 14, 54, 54, 32, 60, 19, 63, 0, 53, 0, 75, 118, 0], [54, 71, 0, 8, 0, 54, 63, 0, 14, 39, 0, 0, 17, 0, 0, 83], [36, 59, 0, 44, 9, 60, 62, 63, 0, 0, 61, 0, 0, 75, 0, 83, 26, 55, 83, 0, 75, 17, 8, 0], [0, 75, 0, 83, 49, 0, 0, 0, 68, 34, 9, 48, 48, 32, 68, 19, 48, 72], [], [14, 8, 34, 0, 49, 83, 0, 75, 74, 32, 64, 57, 0, 75, 54, 32, 53, 0, 0], [44, 54, 14, 0, 58, 0, 68, 9, 9, 0, 54, 54, 0, 0, 42, 0, 32], [14, 54, 54, 32, 0, 69, 33, 68, 34, 0, 68, 34], [19, 32, 75, 0, 19, 14, 28, 68, 25, 49, 26]], 'g2pB': [[36, 0, 0, 25, 0, 17, 17], [14, 0, 45, 0, 63, 53, 26, 0, 8, 63, 0, 58, 26, 0, 0, 37, 52], [14, 0, 63, 0, 0, 53, 34, 0, 75, 0, 75, 34, 53, 0, 49, 68, 42, 34, 57, 53, 0, 49], [14, 59, 0, 0, 53, 34, 0, 61, 0, 52, 0, 0, 33, 0, 61], [45, 0, 14, 0, 59, 0, 0, 61, 8, 55, 28, 0, 53, 0, 49, 25, 0, 61, 55, 55, 53, 0, 49, 0], [42, 0, 74, 8, 0, 34, 8, 61, 58, 34, 34], [8, 61, 8, 61, 0, 34, 61], [55, 61, 8, 32, 52, 14, 34, 61, 0, 34, 8, 49, 8, 61, 0, 61], [44, 14, 64, 14, 28, 0, 0, 64, 53, 0, 49, 8, 8, 0, 0, 0, 55, 34], [14, 59, 0, 36, 0, 0, 54, 73, 32, 28, 84, 0, 49, 14, 8, 37, 0, 61], [14, 0, 61, 68, 14, 58, 49, 0, 58, 52], [0, 14, 0, 14, 54, 8, 14, 61, 0, 0, 14, 0, 32, 40, 49, 45, 0, 63], [9, 54, 32, 25, 0, 22, 68, 63, 54, 68, 32, 0, 63, 54, 63, 0, 25, 63, 9, 0, 63, 0, 54, 49]], 'g2pC': [[36, 0, 19, 0, 19, 53, 26, 49, 0, 19, 0, 45, 9, 14, 26, 0, 32, 32, 32, 63], [0, 53, 26, 42, 9, 26, 26, 75, 77, 0, 28, 49, 0, 49, 0, 0, 75, 75, 26, 19, 0, 26, 0, 9, 26, 26, 0, 52, 26], [0, 0, 58, 0, 75, 75, 75, 66, 0, 61, 0, 70, 68], [0, 73, 0, 36, 0, 0, 72, 0, 72, 72, 72, 8, 72, 72, 0, 66, 66, 0, 66, 0, 0, 36], [36, 36, 0, 61, 65, 65, 45, 65, 19, 71, 58, 72, 0, 66, 69, 119, 0, 119, 119, 66], [36, 0, 119, 119, 119, 0, 119, 119, 34, 0, 52, 53, 52, 0, 52, 0, 0, 52, 53, 53, 0, 52, 52, 0, 0, 52], [0, 14, 36, 69, 0, 32, 32, 63, 48, 48, 28, 0, 19, 0], [14, 77, 36, 61, 8, 28, 25, 61, 34, 61], [66, 0, 58, 0, 0, 17, 0, 63, 0, 58, 0, 28, 0, 17, 61, 63], [0, 36, 69, 0, 0, 17, 0, 17, 54, 0, 17, 0, 0, 48, 48, 0, 63]], 'g2pE': [[54, 0, 57, 36, 0, 17, 17, 17, 71, 19, 0, 62, 0, 62, 62, 0, 0, 0, 0, 55, 57, 19, 0, 19, 53, 26, 0, 26, 0, 49, 0, 19, 0, 45, 9, 0, 14, 26, 0, 32, 32, 32, 63], [26, 26, 0, 58, 0, 75, 75, 75, 66, 0, 61, 0, 70, 68, 0, 0, 0, 53, 26, 0, 75, 77, 0, 28, 49, 0, 49, 0, 0, 75, 75, 26, 55, 26, 0, 9, 26, 26, 0, 52, 26], [62, 0, 17, 71, 0, 62, 19, 43, 0, 65, 39, 0, 36, 62, 0, 62, 0, 62, 0, 62], [0, 0, 0, 0, 59, 0, 45, 0, 63, 0, 42, 57, 57, 65, 0, 74, 0, 74, 46, 74, 8, 8, 0, 75, 65, 19, 83, 83, 39, 69, 0, 8, 74, 57, 33, 57, 65, 74, 0, 61, 61, 43], [0, 69, 0, 69, 0, 45, 0, 72, 72, 83, 0, 58, 58], [36, 8, 42, 45, 8, 26, 0, 9, 45, 45, 0, 67, 67, 69, 26, 0, 9], [0, 8, 8, 55, 0, 69, 0, 0, 69, 0, 72, 72, 72], [35, 65, 65, 0, 69, 48, 54, 75, 28, 28, 0, 73, 28, 0, 28, 69, 9, 9, 69, 69, 69, 0, 0, 73, 0], [72, 0, 72, 76, 0, 72, 14, 8, 0, 72, 72, 0, 66, 0, 36, 66, 0, 66, 0, 0, 36], [14, 8, 8, 42, 9, 34, 0, 0, 0, 36], [36, 36, 8, 8, 42, 0, 32, 68, 65, 65, 19, 71, 58, 0, 66, 0, 0, 119, 0, 119, 119, 66, 9, 65], [0, 0, 22, 36, 0, 68, 119, 119, 0, 119, 34, 0, 52, 53, 52, 0, 52, 0, 0, 52, 53, 53, 0, 52, 52, 0, 0, 52], [9, 42, 0, 0, 0, 14, 119, 0, 45, 119]], 'g3pA': [[0, 17, 17, 17, 36, 0, 0, 0, 34, 34, 0, 8, 61, 0, 61, 14, 0, 69, 0, 26, 0, 0, 61, 26, 0, 0, 45, 52, 0, 0, 0, 63, 0, 0, 61, 26], [0, 69, 0, 0, 63, 0, 42, 55, 0, 0, 0, 26, 0, 9, 9, 0, 63, 33, 0, 61, 0, 0, 61, 0, 61, 34, 0, 69, 0, 0, 61, 34], [36, 0, 55, 0, 33, 64, 26, 72, 28, 68, 9, 9, 58, 68, 0, 63, 49], [0, 0, 14, 61, 26, 8, 8, 0, 44, 0, 58, 61, 26, 19, 8, 8, 55, 54, 75, 63, 0, 9, 0, 64, 26, 19, 8, 28, 8, 9, 34, 26, 34], [36, 0, 0, 17, 17, 17, 0, 0, 68, 0, 74, 19, 0, 61, 0, 55, 44, 48, 28, 17, 17, 71, 68], [55, 0, 49, 71, 0, 58, 62, 19, 0, 0, 0, 61, 61], [42, 0, 68, 0, 63, 49, 0, 0, 68, 0, 0, 49, 8, 8, 119, 0, 55, 0]], 'g3pB': [[36, 0, 62, 0, 17, 17, 17, 33, 61, 0, 37, 34, 68, 25, 61, 0, 34], [0, 62, 83, 43, 25, 25, 36, 33, 61, 8, 28, 68, 25, 43], [36, 17, 43, 63, 0, 21, 63, 33, 34, 17, 0, 69, 0, 61], [0, 69, 40, 26, 34, 120, 0, 67, 0, 61, 120, 67, 54, 49, 8, 0, 0, 52, 34, 120, 28, 76], [0, 54, 48, 0, 0, 0, 40, 0, 0, 0, 0, 0, 40, 73, 0, 63, 73], [49, 0, 0, 58, 0, 58], [49, 49, 0, 49, 68, 0, 0, 28, 33, 26, 8, 8, 0, 0, 66, 0, 0, 61, 0, 61, 61, 0, 49, 0, 49, 0, 0, 68, 0, 0, 34], [36, 8, 8, 0, 0, 58, 0, 26], [0, 9, 0, 74, 0, 83, 55, 49, 28, 28, 0, 0, 49, 0, 49, 0, 0, 63, 0, 0, 68, 83, 55], [14, 8, 74, 0, 63, 45, 0, 72, 0, 66]], 'g3pC': [[0, 17, 17, 17, 36, 0, 19, 0, 19, 53, 26, 49, 0, 19, 0, 45, 9, 14, 26, 0, 32, 32, 32, 63], [36, 0, 42, 45, 45, 45, 45, 0, 0, 67, 67, 69, 33, 26, 0, 9], [0, 69, 69, 0, 45, 0, 72, 72, 83, 0, 58, 58], [34, 8, 74, 69, 0, 8, 0, 69, 0, 72, 72, 72], [35, 65, 65, 0, 69, 0, 72, 0, 69, 65, 54, 75, 28, 28, 0, 73, 28, 0, 28, 9, 9, 69, 69, 69, 0, 0, 73, 0], [36, 0, 119, 119, 119, 0, 119, 119, 34, 0, 52, 53, 52, 0, 52, 0, 0, 52, 53, 53, 0, 52, 52, 0, 0, 52]], 'g4pB': [[36, 0, 0, 0, 61, 0, 28, 0, 49, 0, 53, 25, 43], [33, 17, 17, 8, 8, 0, 0, 17, 0, 34, 0, 43], [55, 0, 17, 74, 8, 0, 34, 19, 0, 70, 66, 0, 0], [0, 0, 14, 0, 36, 0, 32, 0, 34, 0, 28, 19, 32, 49, 76, 0], [0, 32, 0, 26, 0, 68, 0, 0, 0, 49, 0, 0, 34, 0, 28], [0, 68, 32, 58, 68, 49, 72], [0, 53, 72], [48, 42, 28, 0, 49, 0, 53, 0, 43, 61], [68, 8, 8, 0], [55, 68, 74, 8, 9], [0, 17, 17, 17, 36, 0, 42, 0, 58], [0, 14, 49, 0, 53, 74, 8, 68], [49, 0, 53, 8, 8], [0, 28, 49, 0, 53, 0], [17, 8, 0, 0, 14, 34, 0, 61], [14, 0, 52], [55, 17, 49, 74, 75, 0, 61], [83, 0, 0, 33, 34]], 'g4pC': [[0, 17, 17, 17, 36, 0, 19, 0, 19, 53, 26, 49, 0, 19, 0, 45, 9, 14, 26, 0, 32, 32, 32, 63], [0, 36, 62, 62, 62, 0, 0, 36, 62, 0, 62, 0, 62, 0, 62, 0, 17, 71], [62, 0, 62, 65, 43, 0, 39, 65, 0, 119, 119, 0, 59, 0, 45, 0, 75, 83, 83, 39, 54, 0, 8, 74, 57, 33, 57, 65, 61, 43], [0, 53, 26, 42, 9, 26, 26, 75, 77, 0, 28, 49, 0, 49, 0, 0, 75, 75, 26, 19, 0, 26, 0, 9, 26, 26, 0, 52, 26], [0, 0, 58, 0, 75, 75, 75, 66, 0, 61, 0, 70, 68], [36, 0, 42, 45, 45, 45, 45, 0, 0, 67, 67, 69, 33, 26, 0, 9], [0, 69, 69, 0, 45, 0, 72, 72, 83, 0, 58, 58], [34, 8, 74, 69, 0, 8, 0, 69, 0, 72, 72, 72], [35, 65, 65, 0, 69, 0, 72, 0, 69, 65, 54, 75, 28, 28, 0, 73, 28, 0, 28, 69, 9, 9, 69, 69, 69, 0, 0, 73, 0], [0, 73, 0, 36, 0, 0, 72, 0, 72, 72, 72, 8, 72, 72, 0, 66, 66, 0, 66, 0, 0, 36], [36, 36, 0, 61, 65, 65, 45, 65, 19, 71, 58, 72, 0, 66, 69, 119, 0, 119, 119, 66], [36, 0, 119, 119, 119, 0, 119, 119, 34, 0, 52, 53, 52, 0, 52, 0, 0, 52, 53, 53, 0, 52, 52, 0, 0, 52], [36, 0, 36, 0, 76, 67, 0, 0, 48, 72, 54, 0, 0, 68, 68, 0]], 'g4pD': [[0, 63, 0, 36, 0, 0, 0, 0, 53, 26, 0, 0, 32, 75, 26], [0, 62, 0, 36, 62, 68, 0, 0], [9, 71, 0, 68, 0, 26, 26, 28, 0, 73, 0, 49, 0, 0, 26, 25, 19, 48, 0, 26], [49, 33, 26, 0, 119, 45, 26, 26, 0, 45, 26, 0, 9, 52, 26], [0, 63, 0, 36, 0, 0, 75, 0, 75, 66, 0, 61, 0, 70, 68, 17, 28], [0, 62, 62, 0, 36, 0, 0, 0, 0, 62, 0, 17, 71], [0, 65, 43, 0, 39, 65, 0, 0, 0, 119, 119, 0, 0, 59, 0, 45, 0, 75, 83, 0, 45, 62], [33, 45, 44, 0, 0, 57, 65, 0, 0, 74, 0, 74, 0, 74, 8, 8], [0, 0, 22, 75, 83, 0, 33, 83, 39, 54, 0, 8, 74, 57, 33, 57, 65, 0, 74], [48, 0, 33, 0, 8, 32, 72, 0, 72, 72], [0, 73, 0, 36, 62, 0, 0, 0, 9, 72, 72, 72, 0, 66, 19, 0, 66, 0, 0, 36]], 'g4pE': [[17, 17, 17, 0, 0, 17, 0, 36, 0, 65], [36, 59, 26, 53, 34, 25, 0, 26, 34], [0, 8, 42, 48, 48, 0, 34, 0, 61, 26, 0, 36], [36, 62, 26, 0], [0, 61, 34, 0, 28, 0, 68, 0, 34, 0, 0, 8, 48, 0, 26, 34, 52, 77, 0, 54, 42, 68, 74, 68], [36, 0, 0, 0, 68, 0, 53, 68, 0, 17, 17, 68, 0, 0, 69, 0, 61, 34, 0, 28, 0, 49, 0, 34, 74, 0, 0, 48, 69, 0, 28, 0, 49, 0, 61, 34, 83, 32, 0, 26, 34, 0, 61, 34], [62, 0, 17, 68, 42, 36, 0, 55, 62, 9, 62, 0, 0, 32, 42, 0, 0, 0, 0, 119, 119], [0, 74, 83, 39, 54, 0, 8, 74], [42, 74, 63, 42, 9, 36], [0, 63, 14, 0, 73, 0, 9, 0, 26], [0, 8, 14, 65, 0, 74, 76, 69, 0, 63, 34, 0, 72, 72, 0, 61, 0, 0, 63, 34, 48, 28, 28, 0, 73, 0, 69, 34]], 'orig': [[0, 17, 17, 17, 36, 0, 19, 0, 19, 53, 26, 49, 0, 19, 0, 45, 9, 14, 26, 0, 32, 32, 32, 63], [0, 36, 62, 62, 62, 0, 0], [0, 53, 26, 42, 9, 26, 26, 75, 77, 0, 28, 49, 0, 49, 0, 0, 75, 75, 26, 19, 0, 26, 0, 9, 26, 26, 0, 52, 26], [0, 0, 58, 0, 75, 75, 75, 66, 0, 61, 0, 70, 68], [36, 62, 0, 62, 0, 62, 0, 62, 0, 17, 71], [62, 0, 62, 65, 43, 0, 39, 65, 0, 119, 119, 0, 59, 0, 45, 63, 0, 42, 57, 57, 65, 0, 74, 0, 74, 46, 74, 8, 8, 0, 75, 83, 83, 39, 54, 0, 8, 74, 57, 33, 57, 65, 61, 43], [36, 0, 42, 45, 45, 45, 45, 0, 0, 67, 67, 69, 33, 26, 0, 9], [0, 69, 69, 0, 45, 0, 72, 72, 83, 0, 58, 58], [34, 8, 74, 69, 0, 8, 0, 69, 0, 72, 72, 72], [35, 65, 65, 0, 69, 0, 72, 0, 69, 65, 54, 75, 28, 28, 0, 73, 28, 0, 28, 69, 9, 9, 69, 69, 69, 0, 0, 73, 0], [0, 73, 0, 36, 0, 0, 72, 0, 72, 72, 72, 8, 72, 72, 0, 66, 66, 0, 66, 0, 0, 36], [36, 36, 0, 61, 65, 65, 45, 65, 19, 71, 58, 72, 0, 66, 69, 119, 0, 119, 119, 66], [36, 0, 119, 119, 119, 0, 119, 119, 34, 0, 52, 53, 52, 0, 52, 0, 0, 52, 53, 53, 0, 52, 52, 0, 0, 52], [36, 0, 36, 0, 76, 67, 0, 0, 48, 72, 54, 0, 0, 68, 68, 0]]}\n"
     ]
    }
   ],
   "source": [
    "# Creating vector of sentences\n",
    "\n",
    "vector_dict = {}\n",
    "for key, value in question_mapping.items():\n",
    "    vector_dict[key] = {}\n",
    "    for student, answer in value.items():\n",
    "        vector_dict[key][student] = []\n",
    "        for sent in answer:\n",
    "            words = sent.split(' ')\n",
    "            temp_list = []\n",
    "            for w in words:\n",
    "                for cluster_key, cluster_value in clust_dict.items():\n",
    "                    if w in clust_dict[cluster_key]:\n",
    "                        temp_list.append( cluster_key)\n",
    "            vector_dict[key][student].append(temp_list)\n",
    "            \n",
    "for k, v in vector_dict.items():\n",
    "    print(k, '    ', v)\n",
    "    break\n"
   ]
  },
  {
   "cell_type": "code",
   "execution_count": 102,
   "metadata": {},
   "outputs": [],
   "source": [
    "vector_name = {}\n",
    "rep = 0\n",
    "for key, value in vector_dict.items():\n",
    "    for student, vector in value.items():\n",
    "        for v in vector:\n",
    "            vector_name[tuple(v)] = rep\n",
    "            rep+=1\n",
    "        \n",
    "\n",
    "        "
   ]
  },
  {
   "cell_type": "code",
   "execution_count": 103,
   "metadata": {},
   "outputs": [
    {
     "name": "stdout",
     "output_type": "stream",
     "text": [
      "taska      {'g0pA': [0, 1, 2, 3, 4, 5, 6, 7], 'g0pB': [8, 9, 10, 11, 12, 13, 14, 15, 16, 17, 18, 19], 'g0pC': [20, 21, 22, 23, 24, 25, 26, 27, 28, 29], 'g0pD': [30, 31, 32, 33, 34, 220, 36, 222], 'g0pE': [212, 213, 40, 215, 216, 217, 218, 219, 220, 221, 222, 223, 224], 'g1pA': [51, 52, 53, 54, 55, 56, 57, 58, 59, 60, 61, 62], 'g1pB': [63, 64, 65, 66, 67, 68, 69, 70, 71, 72, 73], 'g1pD': [74, 75, 76, 77, 78, 79, 80, 81, 82, 83, 84], 'g2pA': [85, 86, 87, 88, 89, 90, 91, 92, 93, 94, 1065, 96, 97, 98, 99], 'g2pB': [100, 101, 102, 103, 104, 105, 106, 107, 108, 109, 110, 111, 112], 'g2pC': [113, 214, 215, 222, 223, 224, 119, 120, 121, 122], 'g2pE': [123, 124, 125, 126, 127, 128, 129, 130, 131, 132, 133, 134, 135], 'g3pA': [136, 137, 138, 139, 140, 141, 142], 'g3pB': [143, 144, 145, 146, 147, 148, 149, 150, 151, 152], 'g3pC': [212, 218, 219, 220, 157, 224], 'g4pB': [159, 160, 161, 162, 163, 164, 165, 166, 167, 168, 169, 170, 171, 172, 173, 174, 175, 176], 'g4pC': [212, 178, 179, 214, 215, 218, 219, 220, 221, 222, 223, 224, 225], 'g4pD': [190, 191, 192, 193, 194, 195, 196, 197, 198, 199, 200], 'g4pE': [201, 202, 203, 204, 205, 206, 207, 208, 209, 210, 211], 'orig': [212, 213, 214, 215, 216, 217, 218, 219, 220, 221, 222, 223, 224, 225]}\n",
      "5\n"
     ]
    }
   ],
   "source": [
    "# Creating answer vectors.\n",
    "\n",
    "pro_dict = {}\n",
    "for key, value in vector_dict.items():\n",
    "    pro_dict[key] = {}\n",
    "    for student, answer in value.items():\n",
    "        pro_dict[key][student] = []\n",
    "        for v in answer:\n",
    "            ans = tuple(v)\n",
    "            pro_dict[key][student].append(vector_name[ans])\n",
    "\n",
    "for key, value in pro_dict.items():\n",
    "    print(key, '    ', value)\n",
    "    break\n",
    "    \n",
    "print(len(pro_dict.keys()))"
   ]
  },
  {
   "cell_type": "code",
   "execution_count": 104,
   "metadata": {},
   "outputs": [],
   "source": [
    "import pyfpgrowth\n",
    "inp = [\"taske\", \"taska\", \"taskb\", \"taskc\", \"taskd\"]"
   ]
  },
  {
   "cell_type": "code",
   "execution_count": 105,
   "metadata": {},
   "outputs": [],
   "source": [
    "# performing FP_Growth Algorithm\n",
    "\n",
    "def fp_growth(transactions):\n",
    "    patterns = pyfpgrowth.find_frequent_patterns(transactions, 3)\n",
    "    frequent_list = []\n",
    "    for p in patterns:\n",
    "        if len(p) < 3:\n",
    "            continue\n",
    "        else:\n",
    "            frequent_list.append(list(p))\n",
    "    return frequent_list\n"
   ]
  },
  {
   "cell_type": "code",
   "execution_count": 106,
   "metadata": {},
   "outputs": [],
   "source": [
    "def is_sub(sub, lst):\n",
    "    ln = len(sub)\n",
    "    for i in range(len(lst) - ln + 1):\n",
    "        if all(sub[j] == lst[i+j] for j in range(ln)):\n",
    "            return True\n",
    "    return False"
   ]
  },
  {
   "cell_type": "code",
   "execution_count": 107,
   "metadata": {},
   "outputs": [],
   "source": [
    "def output(frequent_list):\n",
    "    output_dict= {}\n",
    "    for lst in frequent_list:\n",
    "        for k, v in pro_dict.items():\n",
    "            for name, vec in v.items():\n",
    "                if is_sub(lst,vec):\n",
    "                    if k not in output_dict:\n",
    "                        output_dict[k] = [name]\n",
    "                    else:\n",
    "                        output_dict[k].append(name)\n",
    "    return output_dict\n",
    "\n",
    "  "
   ]
  },
  {
   "cell_type": "code",
   "execution_count": 116,
   "metadata": {},
   "outputs": [
    {
     "name": "stdout",
     "output_type": "stream",
     "text": [
      "Frequent Item-sets By the FP-Growth:-\n",
      "[[821, 823, 831], [819, 823, 831], [819, 821, 831], [819, 821, 823, 831], [788, 819, 821], [816, 819, 821], [819, 821, 823]]\n",
      "\n",
      "\n",
      "taske  Copied By-->    {'g1pB', 'orig', 'g0pE', 'g2pB'}\n",
      "taska  Copied By-->    {'g4pC', 'g3pC', 'orig', 'g2pC', 'g0pE'}\n"
     ]
    }
   ],
   "source": [
    "# Final output from our script.\n",
    "\n",
    "final= {}\n",
    "for task in inp:\n",
    "    transactions = []\n",
    "    for k, v in pro_dict.items():\n",
    "        if k == task:\n",
    "            for name, vec in v.items():\n",
    "                transactions.append(vec)\n",
    "            frequent_list = fp_growth(transactions)\n",
    "    output_dict = output(frequent_list)\n",
    "    for key, value in output_dict.items():\n",
    "        final[key] = set(value)\n",
    "print(\"Frequent Item-sets By the FP-Growth:-\")        \n",
    "print(frequent_list)\n",
    "print(\"\\n\")\n",
    "for i, v in final.items():\n",
    "    print(i, ' Copied By-->   ', v)\n"
   ]
  },
  {
   "cell_type": "code",
   "execution_count": 109,
   "metadata": {},
   "outputs": [],
   "source": [
    "import pandas as pd\n",
    "xl = pd.ExcelFile(\"corpus_final.xls\")"
   ]
  },
  {
   "cell_type": "code",
   "execution_count": 110,
   "metadata": {},
   "outputs": [],
   "source": [
    "df = xl.parse(\"File list\")\n",
    "df1 = xl.parse(\"Sheet1\")"
   ]
  },
  {
   "cell_type": "code",
   "execution_count": 111,
   "metadata": {},
   "outputs": [],
   "source": [
    "c = df[['File','Category']]\n",
    "\n"
   ]
  },
  {
   "cell_type": "code",
   "execution_count": 117,
   "metadata": {},
   "outputs": [
    {
     "name": "stdout",
     "output_type": "stream",
     "text": [
      "g1pB_taske\n",
      "orig_taske\n",
      "g0pE_taske\n",
      "g2pB_taske\n",
      "g4pC_taska\n",
      "g3pC_taska\n",
      "orig_taska\n",
      "g2pC_taska\n",
      "g0pE_taska\n",
      "6\n",
      "1\n",
      "103\n",
      "61\n",
      "Precision is :  0.8571428571428571\n",
      "Recall is :  0.08955223880597014\n",
      "Accuracy is :  0.6374269005847953\n"
     ]
    }
   ],
   "source": [
    "# Evaluation\n",
    "\n",
    "tp = 0\n",
    "tn = 0\n",
    "fn = 0\n",
    "fp = 0\n",
    "for key, value in final.items():\n",
    "    for v in value:\n",
    "        m=v+'_'+key\n",
    "        print(m)\n",
    "        ans = v+key+'.txt'\n",
    "        head = key\n",
    "        for index, row in c.iterrows():\n",
    "            if row['File'].split('_')[1].split('.')[0] == head:\n",
    "                if row['File'].split('_')[0] == v:\n",
    "                    if row['Category'] == 'cut' or row['Category'] == 'heavy':\n",
    "                        tp+=1\n",
    "                    else:\n",
    "                        fp+=1\n",
    "                else:\n",
    "                    if row['Category'] == 'cut' or row['Category'] == 'heavy':\n",
    "                        fn +=1\n",
    "                    else:\n",
    "                        tn+=1\n",
    "print(tp)\n",
    "print(fp)\n",
    "print(tn)\n",
    "print(fn)\n",
    "precision = float(tp/(tp+fp))                        \n",
    "print('Precision is : ', precision)\n",
    "recall = float(tp/(tp+fn))\n",
    "print('Recall is : ', recall)\n",
    "print('Accuracy is : ', (tp+tn)/(tp+fn+tn+fp))\n",
    "\n",
    "\n",
    "\n",
    "                "
   ]
  },
  {
   "cell_type": "code",
   "execution_count": 113,
   "metadata": {},
   "outputs": [
    {
     "name": "stdout",
     "output_type": "stream",
     "text": [
      "Confusion matrix, without normalization\n",
      "[[55  2]\n",
      " [26 12]]\n"
     ]
    },
    {
     "data": {
      "text/plain": [
       "<matplotlib.axes._subplots.AxesSubplot at 0x2447a8d1f98>"
      ]
     },
     "execution_count": 113,
     "metadata": {},
     "output_type": "execute_result"
    },
    {
     "data": {
      "image/png": "[encoded data removed]",
      "text/plain": [
       "<Figure size 432x288 with 2 Axes>"
      ]
     },
     "metadata": {},
     "output_type": "display_data"
    }
   ],
   "source": [
    "import numpy as np\n",
    "import matplotlib.pyplot as plt\n",
    "\n",
    "from sklearn import svm, datasets\n",
    "from sklearn.model_selection import train_test_split\n",
    "from sklearn.metrics import confusion_matrix\n",
    "from sklearn.utils.multiclass import unique_labels\n",
    "\n",
    "\n",
    "\n",
    "def plot_confusion_matrix(y_true, y_pred, classes,\n",
    "                          normalize=False,\n",
    "                          title=None,\n",
    "                          cmap=plt.cm.Blues):\n",
    "    \"\"\"\n",
    "    This function prints and plots the confusion matrix.\n",
    "    Normalization can be applied by setting `normalize=True`.\n",
    "    \"\"\"\n",
    "    if not title:\n",
    "        if normalize:\n",
    "            title = 'Normalized confusion matrix'\n",
    "        else:\n",
    "            title = 'Confusion matrix, without normalization'\n",
    "\n",
    "    # Compute confusion matrix\n",
    "    cm = confusion_matrix(y_true, y_pred)\n",
    "    # Only use the labels that appear in the data\n",
    "    #classes = classes[unique_labels(y_true, y_pred)]\n",
    "    if normalize:\n",
    "        cm = cm.astype('float') / cm.sum(axis=1)[:, np.newaxis]\n",
    "        print(\"Normalized confusion matrix\")\n",
    "    else:\n",
    "        print('Confusion matrix, without normalization')\n",
    "\n",
    "    print(cm)\n",
    "\n",
    "    fig, ax = plt.subplots()\n",
    "    im = ax.imshow(cm, interpolation='nearest', cmap=cmap)\n",
    "    ax.figure.colorbar(im, ax=ax)\n",
    "    # We want to show all ticks...\n",
    "    ax.set(xticks=np.arange(cm.shape[1]),\n",
    "           yticks=np.arange(cm.shape[0]),\n",
    "           # ... and label them with the respective list entries\n",
    "           xticklabels=classes, yticklabels=classes,\n",
    "           title=title,\n",
    "           ylabel='True label',\n",
    "           xlabel='Predicted label')\n",
    "\n",
    "    # Rotate the tick labels and set their alignment.\n",
    "    plt.setp(ax.get_xticklabels(), rotation=45, ha=\"right\",\n",
    "             rotation_mode=\"anchor\")\n",
    "\n",
    "    # Loop over data dimensions and create text annotations.\n",
    "    fmt = '.2f' if normalize else 'd'\n",
    "    thresh = cm.max() / 2.\n",
    "    for i in range(cm.shape[0]):\n",
    "        for j in range(cm.shape[1]):\n",
    "            ax.text(j, i, format(cm[i, j], fmt),\n",
    "                    ha=\"center\", va=\"center\",\n",
    "                    color=\"white\" if cm[i, j] > thresh else \"black\")\n",
    "    fig.tight_layout()\n",
    "    return ax\n",
    "\n",
    "\n",
    "np.set_printoptions(precision=2)\n",
    "\n",
    "# Plot non-normalized confusion matrix\n",
    "plot_confusion_matrix(df1['Actual'].values, df1['Predicted'].values, classes=[\"Non-Plagirized\",\"Plagarized\"],\n",
    "                      title='Confusion matrix, without normalization')"
   ]
  },
  {
   "cell_type": "code",
   "execution_count": 114,
   "metadata": {},
   "outputs": [
    {
     "data": {
      "text/plain": [
       "array(['Non-Plagarized', 'Plagarized', 'Non-Plagarized', 'Plagarized',\n",
       "       'Non-Plagarized', 'Non-Plagarized', 'Non-Plagarized', 'Plagarized',\n",
       "       'Non-Plagarized', 'Plagarized', 'Plagarized', 'Non-Plagarized',\n",
       "       'Non-Plagarized', 'Plagarized', 'Non-Plagarized', 'Plagarized',\n",
       "       'Non-Plagarized', 'Plagarized', 'Non-Plagarized', 'Non-Plagarized',\n",
       "       'Non-Plagarized', 'Plagarized', 'Non-Plagarized', 'Non-Plagarized',\n",
       "       'Plagarized', 'Non-Plagarized', 'Plagarized', 'Non-Plagarized',\n",
       "       'Plagarized', 'Non-Plagarized', 'Non-Plagarized', 'Non-Plagarized',\n",
       "       'Plagarized', 'Non-Plagarized', 'Plagarized', 'Non-Plagarized',\n",
       "       'Plagarized', 'Non-Plagarized', 'Non-Plagarized', 'Plagarized',\n",
       "       'Non-Plagarized', 'Plagarized', 'Non-Plagarized', 'Plagarized',\n",
       "       'Non-Plagarized', 'Non-Plagarized', 'Non-Plagarized', 'Plagarized',\n",
       "       'Non-Plagarized', 'Plagarized', 'Plagarized', 'Non-Plagarized',\n",
       "       'Non-Plagarized', 'Plagarized', 'Non-Plagarized', 'Plagarized',\n",
       "       'Non-Plagarized', 'Plagarized', 'Non-Plagarized', 'Non-Plagarized',\n",
       "       'Non-Plagarized', 'Plagarized', 'Non-Plagarized', 'Plagarized',\n",
       "       'Non-Plagarized', 'Non-Plagarized', 'Non-Plagarized', 'Plagarized',\n",
       "       'Non-Plagarized', 'Plagarized', 'Plagarized', 'Non-Plagarized',\n",
       "       'Non-Plagarized', 'Plagarized', 'Non-Plagarized', 'Non-Plagarized',\n",
       "       'Non-Plagarized', 'Plagarized', 'Non-Plagarized', 'Plagarized',\n",
       "       'Plagarized', 'Non-Plagarized', 'Non-Plagarized', 'Plagarized',\n",
       "       'Non-Plagarized', 'Non-Plagarized', 'Plagarized', 'Non-Plagarized',\n",
       "       'Non-Plagarized', 'Plagarized', 'Plagarized', 'Non-Plagarized',\n",
       "       'Plagarized', 'Non-Plagarized', 'Non-Plagarized'], dtype=object)"
      ]
     },
     "execution_count": 114,
     "metadata": {},
     "output_type": "execute_result"
    }
   ],
   "source": [
    "#for i in range(len(df1)):\n",
    "#   print(df1.iloc[i:,8:9])\n",
    "df1['Actual'].values"
   ]
  },
  {
   "cell_type": "code",
   "execution_count": null,
   "metadata": {},
   "outputs": [],
   "source": []
  }
 ],
 "metadata": {
  "kernelspec": {
   "display_name": "Python 3",
   "language": "python",
   "name": "python3"
  },
  "language_info": {
   "codemirror_mode": {
    "name": "ipython",
    "version": 3
   },
   "file_extension": ".py",
   "mimetype": "text/x-python",
   "name": "python",
   "nbconvert_exporter": "python",
   "pygments_lexer": "ipython3",
   "version": "3.6.5"
  }
 },
 "nbformat": 4,
 "nbformat_minor": 2
}
